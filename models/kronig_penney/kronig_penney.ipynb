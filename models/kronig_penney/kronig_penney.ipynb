{
 "cells": [
  {
   "cell_type": "markdown",
   "metadata": {},
   "source": [
    "# The Kronig-Penney Model\n",
    "We'll be finding Hamiltonian eigenvalues and eigenfunctions of the model, or its' definite energy levels and wavefunctions."
   ]
  },
  {
   "cell_type": "code",
   "execution_count": null,
   "metadata": {
    "collapsed": true
   },
   "outputs": [],
   "source": [
    "import models.kronig_penney as kp\n",
    "from constants import PLANCK_CONST_Js, J_eV_CONVERSION_JpeV, MASS_ELECTRON_kg\n",
    "from matplotlib import pyplot as plt\n",
    "\n",
    "# V0: Potential well depth (eV)\n",
    "depth_eV = 5.0 * 1.6920644164445534e2\n",
    "depth_J = depth_eV * J_eV_CONVERSION_JpeV\n",
    "\n",
    "# a, b: Crystal lattice distances (m)\n",
    "len_a_m = 1e-10\n",
    "len_b_m = 1e-10\n",
    "\n",
    "# N: Number of periods in crystal before cycling back to other side\n",
    "num_periods = 10\n",
    "\n",
    "# n: Propagation constant, which determines phase of wavefunction\n",
    "propagation_const = 3"
   ]
  },
  {
   "cell_type": "markdown",
   "metadata": {},
   "source": [
    "<img src=\"../../documents/kronig_penney/figs/potential_E_neg.png\" />"
   ]
  },
  {
   "cell_type": "code",
   "execution_count": 3,
   "metadata": {},
   "outputs": [],
   "source": [
    "eigenvalue_eq_n, roots_n = kp.compute_eigenvalue_negative(\n",
    "    well_depth=depth_J, len_a_m=len_a_m, len_b_m=len_b_m, start=-0.9999999*depth_J, stop=-0.0000001*depth_J,\n",
    "    num=1000000, propagation_const=propagation_const, num_periods=num_periods)\n",
    "eigenvals_n = roots_n[0]"
   ]
  },
  {
   "cell_type": "code",
   "execution_count": null,
   "metadata": {},
   "outputs": [],
   "source": [
    "\n",
    "eig_n_fig = "
   ]
  }
 ],
 "metadata": {
  "kernelspec": {
   "display_name": "Python 3",
   "language": "python",
   "name": "python3"
  },
  "language_info": {
   "codemirror_mode": {
    "name": "ipython",
    "version": 3
   },
   "file_extension": ".py",
   "mimetype": "text/x-python",
   "name": "python",
   "nbconvert_exporter": "python",
   "pygments_lexer": "ipython3",
   "version": "3.6.4"
  }
 },
 "nbformat": 4,
 "nbformat_minor": 1
}
